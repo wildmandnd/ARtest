{
 "cells": [
  {
   "cell_type": "code",
   "execution_count": 294,
   "metadata": {
    "scrolled": true
   },
   "outputs": [
    {
     "name": "stderr",
     "output_type": "stream",
     "text": [
      "INFO:mlagents.envs:Start training by pressing the Play button in the Unity Editor.\n",
      "INFO:mlagents.envs:\n",
      "'GameObject (1)' started successfully!\n",
      "Unity Academy name: GameObject (1)\n",
      "        Number of Brains: 1\n",
      "        Number of Training Brains : 1\n",
      "        Reset Parameters :\n",
      "\t\t\n",
      "Unity brain name: MM_SimpleBrain\n",
      "        Number of Visual Observations (per agent): 0\n",
      "        Vector Observation space size (per agent): 30\n",
      "        Number of stacked Vector Observation: 1\n",
      "        Vector Action space type: discrete\n",
      "        Vector Action space size (per agent): [10, 10, 10]\n",
      "        Vector Action descriptions: player1, player2, player3\n"
     ]
    }
   ],
   "source": [
    "from mlagents.envs import UnityEnvironment\n",
    "import numpy as np\n",
    "import sys\n",
    "\n",
    "train_mode = True  # Whether to run the environment in training or inference mode\n",
    "env = UnityEnvironment(file_name=None, worker_id=0, seed=1)\n",
    "\n",
    "# Set the default brain to work with\n",
    "default_brain = env.brain_names[0]\n",
    "brain = env.brains[default_brain]"
   ]
  },
  {
   "cell_type": "code",
   "execution_count": 295,
   "metadata": {},
   "outputs": [],
   "source": [
    "env_info = env.reset(train_mode=train_mode)[default_brain]"
   ]
  },
  {
   "cell_type": "code",
   "execution_count": 296,
   "metadata": {
    "scrolled": true
   },
   "outputs": [],
   "source": [
    "info = env.step([1, 2, 3])\n",
    "brainInfo = info['MM_SimpleBrain']\n",
    "observations = brainInfo.vector_observations"
   ]
  },
  {
   "cell_type": "code",
   "execution_count": 297,
   "metadata": {},
   "outputs": [],
   "source": [
    "info = env.step([1, 2, 3])\n",
    "brainInfo = info['MM_SimpleBrain']\n",
    "observations = brainInfo.vector_observations"
   ]
  },
  {
   "cell_type": "code",
   "execution_count": 298,
   "metadata": {
    "scrolled": true
   },
   "outputs": [],
   "source": [
    "info = env.step([[1, 2, 3],[1, 2, 3]])\n",
    "brainInfo = info['MM_SimpleBrain']\n",
    "observations = brainInfo.vector_observations"
   ]
  },
  {
   "cell_type": "code",
   "execution_count": 299,
   "metadata": {
    "scrolled": true
   },
   "outputs": [],
   "source": [
    "info = env.step([[1, 2, 3],[1, 2, 3]])\n",
    "brainInfo = info['MM_SimpleBrain']\n",
    "observations = brainInfo.vector_observations"
   ]
  },
  {
   "cell_type": "code",
   "execution_count": 300,
   "metadata": {
    "scrolled": true
   },
   "outputs": [
    {
     "data": {
      "text/plain": [
       "[0.0, 0.8479088544845581]"
      ]
     },
     "execution_count": 300,
     "metadata": {},
     "output_type": "execute_result"
    }
   ],
   "source": [
    "info = env.step([[1, 2, 3],[1, 2, 3]])\n",
    "brainInfo = info['MM_SimpleBrain']\n",
    "observations = brainInfo.vector_observations\n",
    "rewards = brainInfo.rewards\n",
    "                 \n",
    "rewards"
   ]
  },
  {
   "cell_type": "code",
   "execution_count": 301,
   "metadata": {},
   "outputs": [],
   "source": [
    "env.close()"
   ]
  },
  {
   "cell_type": "code",
   "execution_count": null,
   "metadata": {},
   "outputs": [],
   "source": []
  }
 ],
 "metadata": {
  "kernelspec": {
   "display_name": "Python 3",
   "language": "python",
   "name": "python3"
  },
  "language_info": {
   "codemirror_mode": {
    "name": "ipython",
    "version": 3
   },
   "file_extension": ".py",
   "mimetype": "text/x-python",
   "name": "python",
   "nbconvert_exporter": "python",
   "pygments_lexer": "ipython3",
   "version": "3.6.9"
  }
 },
 "nbformat": 4,
 "nbformat_minor": 2
}
