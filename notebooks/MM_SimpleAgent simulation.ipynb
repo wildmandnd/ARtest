{
 "cells": [
  {
   "cell_type": "code",
   "execution_count": 45,
   "metadata": {
    "scrolled": true
   },
   "outputs": [
    {
     "name": "stderr",
     "output_type": "stream",
     "text": [
      "INFO:mlagents.envs:Start training by pressing the Play button in the Unity Editor.\n",
      "INFO:mlagents.envs:\n",
      "'Academy' started successfully!\n",
      "Unity Academy name: Academy\n",
      "        Number of Brains: 1\n",
      "        Number of Training Brains : 1\n",
      "        Reset Parameters :\n",
      "\t\t\n",
      "Unity brain name: MM_SimpleBrain\n",
      "        Number of Visual Observations (per agent): 0\n",
      "        Vector Observation space size (per agent): 30\n",
      "        Number of stacked Vector Observation: 1\n",
      "        Vector Action space type: discrete\n",
      "        Vector Action space size (per agent): [10, 10, 10]\n",
      "        Vector Action descriptions: player1, player2, player3\n"
     ]
    }
   ],
   "source": [
    "from mlagents.envs import UnityEnvironment\n",
    "import numpy as np\n",
    "import sys\n",
    "\n",
    "train_mode = True  # Whether to run the environment in training or inference mode\n",
    "env = UnityEnvironment(file_name=None, worker_id=0, seed=1)\n",
    "\n",
    "# Set the default brain to work with\n",
    "default_brain = env.brain_names[0]\n",
    "brain = env.brains[default_brain]"
   ]
  },
  {
   "cell_type": "code",
   "execution_count": 46,
   "metadata": {},
   "outputs": [],
   "source": [
    "env_info = env.reset(train_mode=train_mode)[default_brain]"
   ]
  },
  {
   "cell_type": "code",
   "execution_count": 47,
   "metadata": {
    "scrolled": true
   },
   "outputs": [],
   "source": [
    "# env_info.agents_size is 1 after reset - Unity simulation has allocated 1 agent so far to be matchmaked\n",
    "\n",
    "# env_info.vector_observations has been filled, so Matchmaking has data to work with\n",
    "# currently queue has 1 agent, 10 chars with 3 stats each, so vector_observations is 30 floats\n",
    "\n",
    "# env_info.rewards has reward for just one agent and it is zero, as expected - simulation isn't finished yet\n",
    "\n",
    "# sending agent an action - matchmaking players 0, 2 and 7 in the queue\n",
    "\n",
    "## **IMPORTANT** - Unity simulation assumes ascending order of character indexes\n",
    "\n",
    "info = env.step([0, 2, 7])\n",
    "brainInfo = info['MM_SimpleBrain']\n",
    "observations = brainInfo.vector_observations"
   ]
  },
  {
   "cell_type": "code",
   "execution_count": 50,
   "metadata": {},
   "outputs": [],
   "source": [
    "# repeating last step, casue due to ML-Agents Unity architecture it takes an additional step to recognize\n",
    "# dynamically instanced Agents\n",
    "\n",
    "info = env.step([0, 0, 0]) # parameters do not matter, already initialized MM_SimpleAgents will ignore them\n",
    "brainInfo = info['MM_SimpleBrain']\n",
    "observations = brainInfo.vector_observations"
   ]
  },
  {
   "cell_type": "code",
   "execution_count": 298,
   "metadata": {
    "scrolled": true
   },
   "outputs": [],
   "source": [
    "# env_info.agents_size is 2\n",
    "# currently queue has 2 agents, 10 chars with 3 stats each, so vector_observations is 2x [30] floats\n",
    "\n",
    "# sending second agent an action - matchmaking players 2, 4 and 9\n",
    "# parameters for the first agent must still be sent, but again they'll be ignored by MM_SimpleAgents once it has\n",
    "# started simulation\n",
    "\n",
    "info = env.step([[0, 0, 0],[2, 4, 9]])\n",
    "brainInfo = info['MM_SimpleBrain']\n",
    "observations = brainInfo.vector_observations"
   ]
  },
  {
   "cell_type": "code",
   "execution_count": 299,
   "metadata": {
    "scrolled": true
   },
   "outputs": [],
   "source": [
    "# again repeating last step\n",
    "# both parameters do not matter at this stage as agents has got their matchmaking done\n",
    "\n",
    "info = env.step([[0, 0, 0],[0, 0, 0]])\n",
    "brainInfo = info['MM_SimpleBrain']\n",
    "observations = brainInfo.vector_observations"
   ]
  },
  {
   "cell_type": "code",
   "execution_count": 300,
   "metadata": {
    "scrolled": true
   },
   "outputs": [
    {
     "data": {
      "text/plain": [
       "[0.0, 0.8479088544845581]"
      ]
     },
     "execution_count": 300,
     "metadata": {},
     "output_type": "execute_result"
    }
   ],
   "source": [
    "# Here simulation continues.\n",
    "\n",
    "# So far only two Agents are activated by Unity, but this will change depending on config\n",
    "# Python should always check env_info.agents_size\n",
    "\n",
    "# Non-zero rewards means Agent has reached the end of it's simulation and is awaiting new commands\n",
    "\n",
    "# In the rare case of two Agents finishing simultaneously, Python can do matchmaking for them both at once,\n",
    "# but the proposed idea is to do it step by step. Sending zeroes will cause an Agent awaiting for MM\n",
    "# to ignore the action and keep waiting.\n",
    "\n",
    "# So Python fills up one Agent from the queue of 10 characters and then receives the updated queue \n",
    "# to feed the next Agent on the next step\n",
    "\n",
    "info = env.step([[1, 2, 3],[0, 0, 0]])\n",
    "brainInfo = info['MM_SimpleBrain']\n",
    "observations = brainInfo.vector_observations\n",
    "rewards = brainInfo.rewards\n",
    "                 \n",
    "rewards"
   ]
  },
  {
   "cell_type": "code",
   "execution_count": 52,
   "metadata": {},
   "outputs": [],
   "source": [
    "# When testing in Unity Editor this is necessary to unlock it\n",
    "\n",
    "env.close()"
   ]
  }
 ],
 "metadata": {
  "kernelspec": {
   "display_name": "Python 3",
   "language": "python",
   "name": "python3"
  },
  "language_info": {
   "codemirror_mode": {
    "name": "ipython",
    "version": 3
   },
   "file_extension": ".py",
   "mimetype": "text/x-python",
   "name": "python",
   "nbconvert_exporter": "python",
   "pygments_lexer": "ipython3",
   "version": "3.6.9"
  }
 },
 "nbformat": 4,
 "nbformat_minor": 2
}
