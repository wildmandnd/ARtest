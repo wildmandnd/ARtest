{
 "cells": [
  {
   "cell_type": "code",
   "execution_count": 1,
   "metadata": {
    "scrolled": true
   },
   "outputs": [
    {
     "name": "stderr",
     "output_type": "stream",
     "text": [
      "INFO:mlagents.envs:Start training by pressing the Play button in the Unity Editor.\n",
      "INFO:mlagents.envs:\n",
      "'Academy' started successfully!\n",
      "Unity Academy name: Academy\n",
      "        Number of Brains: 1\n",
      "        Number of Training Brains : 1\n",
      "        Reset Parameters :\n",
      "\t\t\n",
      "Unity brain name: MM_SimpleBrain\n",
      "        Number of Visual Observations (per agent): 0\n",
      "        Vector Observation space size (per agent): 30\n",
      "        Number of stacked Vector Observation: 1\n",
      "        Vector Action space type: discrete\n",
      "        Vector Action space size (per agent): [10, 10, 10]\n",
      "        Vector Action descriptions: player1, player2, player3\n"
     ]
    }
   ],
   "source": [
    "from mlagents.envs import UnityEnvironment\n",
    "import numpy as np\n",
    "import sys\n",
    "\n",
    "train_mode = True  # Whether to run the environment in training or inference mode\n",
    "env = UnityEnvironment(file_name=None, worker_id=0, seed=1)\n",
    "\n",
    "# Set the default brain to work with\n",
    "default_brain = env.brain_names[0]\n",
    "brain = env.brains[default_brain]"
   ]
  },
  {
   "cell_type": "code",
   "execution_count": 2,
   "metadata": {},
   "outputs": [],
   "source": [
    "env_info = env.reset(train_mode=train_mode)[default_brain]"
   ]
  },
  {
   "cell_type": "code",
   "execution_count": 3,
   "metadata": {
    "scrolled": true
   },
   "outputs": [],
   "source": [
    "# env_info.agents_size is 1 after reset - Unity simulation has allocated 1 agent so far to be matchmaked\n",
    "\n",
    "# env_info.vector_observations has been filled, so Matchmaking has data to work with\n",
    "# currently queue has 1 agent, 10 chars with 3 stats each, so vector_observations is 30 floats\n",
    "\n",
    "# env_info.rewards has reward for just one agent and it is zero, as expected - simulation isn't finished yet\n",
    "\n",
    "# sending agent an action - matchmaking players 0, 2 and 7 in the queue\n",
    "\n",
    "## **IMPORTANT** - Unity simulation assumes ascending order of character indexes\n",
    "\n",
    "info = env.step([0, 2, 7])\n",
    "brainInfo = info['MM_SimpleBrain']\n",
    "observations = brainInfo.vector_observations"
   ]
  },
  {
   "cell_type": "code",
   "execution_count": 4,
   "metadata": {},
   "outputs": [],
   "source": [
    "# repeating last step, casue due to ML-Agents Unity architecture it takes an additional step to recognize\n",
    "# dynamically instanced Agents\n",
    "\n",
    "info = env.step([0, 0, 0]) # parameters do not matter, already initialized MM_SimpleAgents will ignore them\n",
    "brainInfo = info['MM_SimpleBrain']\n",
    "observations = brainInfo.vector_observations"
   ]
  },
  {
   "cell_type": "code",
   "execution_count": 5,
   "metadata": {
    "scrolled": true
   },
   "outputs": [],
   "source": [
    "# env_info.agents_size is 2\n",
    "# currently queue has 2 agents, 10 chars with 3 stats each, so vector_observations is 2x [30] floats\n",
    "\n",
    "# sending second agent an action - matchmaking players 2, 4 and 9\n",
    "# parameters for the first agent must still be sent, but again they'll be ignored by MM_SimpleAgents once it has\n",
    "# started simulation\n",
    "\n",
    "info = env.step([[0, 0, 0],[2, 4, 9]])\n",
    "brainInfo = info['MM_SimpleBrain']\n",
    "observations = brainInfo.vector_observations"
   ]
  },
  {
   "cell_type": "code",
   "execution_count": 6,
   "metadata": {
    "scrolled": true
   },
   "outputs": [],
   "source": [
    "# again repeating last step\n",
    "# both parameters do not matter at this stage as agents has got their matchmaking done\n",
    "\n",
    "info = env.step([[0, 0, 0],[0, 0, 0]])\n",
    "brainInfo = info['MM_SimpleBrain']\n",
    "observations = brainInfo.vector_observations"
   ]
  },
  {
   "cell_type": "code",
   "execution_count": 8,
   "metadata": {
    "scrolled": true
   },
   "outputs": [
    {
     "ename": "UnityActionException",
     "evalue": "There was a mismatch between the provided action and the environment's expectation: The brain MM_SimpleBrain expected 9 discrete action(s), but was provided: [1.0, 2.0, 3.0, 0.0, 0.0, 0.0]",
     "output_type": "error",
     "traceback": [
      "\u001b[1;31m---------------------------------------------------------------------------\u001b[0m",
      "\u001b[1;31mUnityActionException\u001b[0m                      Traceback (most recent call last)",
      "\u001b[1;32m<ipython-input-8-ef3e3d5aa1d9>\u001b[0m in \u001b[0;36m<module>\u001b[1;34m\u001b[0m\n\u001b[0;32m     13\u001b[0m \u001b[1;31m# to feed the next Agent on the next step\u001b[0m\u001b[1;33m\u001b[0m\u001b[1;33m\u001b[0m\u001b[1;33m\u001b[0m\u001b[0m\n\u001b[0;32m     14\u001b[0m \u001b[1;33m\u001b[0m\u001b[0m\n\u001b[1;32m---> 15\u001b[1;33m \u001b[0minfo\u001b[0m \u001b[1;33m=\u001b[0m \u001b[0menv\u001b[0m\u001b[1;33m.\u001b[0m\u001b[0mstep\u001b[0m\u001b[1;33m(\u001b[0m\u001b[1;33m[\u001b[0m\u001b[1;33m[\u001b[0m\u001b[1;36m1\u001b[0m\u001b[1;33m,\u001b[0m \u001b[1;36m2\u001b[0m\u001b[1;33m,\u001b[0m \u001b[1;36m3\u001b[0m\u001b[1;33m]\u001b[0m\u001b[1;33m,\u001b[0m\u001b[1;33m[\u001b[0m\u001b[1;36m0\u001b[0m\u001b[1;33m,\u001b[0m \u001b[1;36m0\u001b[0m\u001b[1;33m,\u001b[0m \u001b[1;36m0\u001b[0m\u001b[1;33m]\u001b[0m\u001b[1;33m]\u001b[0m\u001b[1;33m)\u001b[0m\u001b[1;33m\u001b[0m\u001b[1;33m\u001b[0m\u001b[0m\n\u001b[0m\u001b[0;32m     16\u001b[0m \u001b[0mbrainInfo\u001b[0m \u001b[1;33m=\u001b[0m \u001b[0minfo\u001b[0m\u001b[1;33m[\u001b[0m\u001b[1;34m'MM_SimpleBrain'\u001b[0m\u001b[1;33m]\u001b[0m\u001b[1;33m\u001b[0m\u001b[1;33m\u001b[0m\u001b[0m\n\u001b[0;32m     17\u001b[0m \u001b[0mobservations\u001b[0m \u001b[1;33m=\u001b[0m \u001b[0mbrainInfo\u001b[0m\u001b[1;33m.\u001b[0m\u001b[0mvector_observations\u001b[0m\u001b[1;33m\u001b[0m\u001b[1;33m\u001b[0m\u001b[0m\n",
      "\u001b[1;32mc:\\users\\d_nozhnin\\appdata\\local\\continuum\\anaconda3\\envs\\ml-agents\\lib\\site-packages\\mlagents\\envs\\timers.py\u001b[0m in \u001b[0;36mwrapped\u001b[1;34m(*args, **kwargs)\u001b[0m\n\u001b[0;32m    208\u001b[0m     \u001b[1;32mdef\u001b[0m \u001b[0mwrapped\u001b[0m\u001b[1;33m(\u001b[0m\u001b[1;33m*\u001b[0m\u001b[0margs\u001b[0m\u001b[1;33m,\u001b[0m \u001b[1;33m**\u001b[0m\u001b[0mkwargs\u001b[0m\u001b[1;33m)\u001b[0m\u001b[1;33m:\u001b[0m\u001b[1;33m\u001b[0m\u001b[1;33m\u001b[0m\u001b[0m\n\u001b[0;32m    209\u001b[0m         \u001b[1;32mwith\u001b[0m \u001b[0mhierarchical_timer\u001b[0m\u001b[1;33m(\u001b[0m\u001b[0mfunc\u001b[0m\u001b[1;33m.\u001b[0m\u001b[0m__qualname__\u001b[0m\u001b[1;33m)\u001b[0m\u001b[1;33m:\u001b[0m\u001b[1;33m\u001b[0m\u001b[1;33m\u001b[0m\u001b[0m\n\u001b[1;32m--> 210\u001b[1;33m             \u001b[1;32mreturn\u001b[0m \u001b[0mfunc\u001b[0m\u001b[1;33m(\u001b[0m\u001b[1;33m*\u001b[0m\u001b[0margs\u001b[0m\u001b[1;33m,\u001b[0m \u001b[1;33m**\u001b[0m\u001b[0mkwargs\u001b[0m\u001b[1;33m)\u001b[0m\u001b[1;33m\u001b[0m\u001b[1;33m\u001b[0m\u001b[0m\n\u001b[0m\u001b[0;32m    211\u001b[0m \u001b[1;33m\u001b[0m\u001b[0m\n\u001b[0;32m    212\u001b[0m     \u001b[1;32mreturn\u001b[0m \u001b[0mwrapped\u001b[0m  \u001b[1;31m# type: ignore\u001b[0m\u001b[1;33m\u001b[0m\u001b[1;33m\u001b[0m\u001b[0m\n",
      "\u001b[1;32mc:\\users\\d_nozhnin\\appdata\\local\\continuum\\anaconda3\\envs\\ml-agents\\lib\\site-packages\\mlagents\\envs\\environment.py\u001b[0m in \u001b[0;36mstep\u001b[1;34m(self, vector_action, memory, text_action, value, custom_action)\u001b[0m\n\u001b[0;32m    562\u001b[0m                             \u001b[1;32melse\u001b[0m \u001b[0mstr\u001b[0m\u001b[1;33m(\u001b[0m\u001b[0mexpected_continuous_size\u001b[0m\u001b[1;33m)\u001b[0m\u001b[1;33m,\u001b[0m\u001b[1;33m\u001b[0m\u001b[1;33m\u001b[0m\u001b[0m\n\u001b[0;32m    563\u001b[0m                             \u001b[0mself\u001b[0m\u001b[1;33m.\u001b[0m\u001b[0m_brains\u001b[0m\u001b[1;33m[\u001b[0m\u001b[0mbrain_name\u001b[0m\u001b[1;33m]\u001b[0m\u001b[1;33m.\u001b[0m\u001b[0mvector_action_space_type\u001b[0m\u001b[1;33m,\u001b[0m\u001b[1;33m\u001b[0m\u001b[1;33m\u001b[0m\u001b[0m\n\u001b[1;32m--> 564\u001b[1;33m                             \u001b[0mstr\u001b[0m\u001b[1;33m(\u001b[0m\u001b[0mvector_action\u001b[0m\u001b[1;33m[\u001b[0m\u001b[0mbrain_name\u001b[0m\u001b[1;33m]\u001b[0m\u001b[1;33m)\u001b[0m\u001b[1;33m,\u001b[0m\u001b[1;33m\u001b[0m\u001b[1;33m\u001b[0m\u001b[0m\n\u001b[0m\u001b[0;32m    565\u001b[0m                         )\n\u001b[0;32m    566\u001b[0m                     )\n",
      "\u001b[1;31mUnityActionException\u001b[0m: There was a mismatch between the provided action and the environment's expectation: The brain MM_SimpleBrain expected 9 discrete action(s), but was provided: [1.0, 2.0, 3.0, 0.0, 0.0, 0.0]"
     ]
    }
   ],
   "source": [
    "# Here simulation continues.\n",
    "\n",
    "# So far only two Agents are activated by Unity, but this will change depending on config\n",
    "# Python should always check env_info.agents_size\n",
    "\n",
    "# Non-zero rewards means Agent has reached the end of it's simulation and is awaiting new commands\n",
    "\n",
    "# In the rare case of two Agents finishing simultaneously, Python can do matchmaking for them both at once,\n",
    "# but the proposed idea is to do it step by step. Sending zeroes will cause an Agent awaiting for MM\n",
    "# to ignore the action and keep waiting.\n",
    "\n",
    "# So Python fills up one Agent from the queue of 10 characters and then receives the updated queue \n",
    "# to feed the next Agent on the next step\n",
    "\n",
    "info = env.step([[1, 2, 3],[0, 0, 0]])\n",
    "brainInfo = info['MM_SimpleBrain']\n",
    "observations = brainInfo.vector_observations\n",
    "rewards = brainInfo.rewards\n",
    "                 \n",
    "rewards"
   ]
  },
  {
   "cell_type": "code",
   "execution_count": 9,
   "metadata": {},
   "outputs": [],
   "source": [
    "# When testing in Unity Editor this is necessary to unlock it\n",
    "\n",
    "env.close()"
   ]
  },
  {
   "cell_type": "code",
   "execution_count": 9,
   "metadata": {},
   "outputs": [
    {
     "data": {
      "text/plain": [
       "<mlagents.envs.brain.BrainInfo at 0x2ea269eb6d8>"
      ]
     },
     "execution_count": 9,
     "metadata": {},
     "output_type": "execute_result"
    }
   ],
   "source": [
    "brainInfo"
   ]
  },
  {
   "cell_type": "code",
   "execution_count": 10,
   "metadata": {},
   "outputs": [
    {
     "ename": "AttributeError",
     "evalue": "'BrainInfo' object has no attribute 'agents_size'",
     "output_type": "error",
     "traceback": [
      "\u001b[1;31m---------------------------------------------------------------------------\u001b[0m",
      "\u001b[1;31mAttributeError\u001b[0m                            Traceback (most recent call last)",
      "\u001b[1;32m<ipython-input-10-e80fa7f677fb>\u001b[0m in \u001b[0;36m<module>\u001b[1;34m\u001b[0m\n\u001b[1;32m----> 1\u001b[1;33m \u001b[0menv_info\u001b[0m\u001b[1;33m.\u001b[0m\u001b[0magents_size\u001b[0m\u001b[1;33m\u001b[0m\u001b[1;33m\u001b[0m\u001b[0m\n\u001b[0m",
      "\u001b[1;31mAttributeError\u001b[0m: 'BrainInfo' object has no attribute 'agents_size'"
     ]
    }
   ],
   "source": [
    "env_info.agents_size"
   ]
  },
  {
   "cell_type": "code",
   "execution_count": 11,
   "metadata": {},
   "outputs": [
    {
     "ename": "AttributeError",
     "evalue": "'dict' object has no attribute 'agents_size'",
     "output_type": "error",
     "traceback": [
      "\u001b[1;31m---------------------------------------------------------------------------\u001b[0m",
      "\u001b[1;31mAttributeError\u001b[0m                            Traceback (most recent call last)",
      "\u001b[1;32m<ipython-input-11-d1b572ee6ea8>\u001b[0m in \u001b[0;36m<module>\u001b[1;34m\u001b[0m\n\u001b[1;32m----> 1\u001b[1;33m \u001b[0minfo\u001b[0m\u001b[1;33m.\u001b[0m\u001b[0magents_size\u001b[0m\u001b[1;33m\u001b[0m\u001b[1;33m\u001b[0m\u001b[0m\n\u001b[0m",
      "\u001b[1;31mAttributeError\u001b[0m: 'dict' object has no attribute 'agents_size'"
     ]
    }
   ],
   "source": [
    "info.agents_size"
   ]
  },
  {
   "cell_type": "code",
   "execution_count": null,
   "metadata": {},
   "outputs": [],
   "source": [
    "bra"
   ]
  }
 ],
 "metadata": {
  "kernelspec": {
   "display_name": "Python 3",
   "language": "python",
   "name": "python3"
  },
  "language_info": {
   "codemirror_mode": {
    "name": "ipython",
    "version": 3
   },
   "file_extension": ".py",
   "mimetype": "text/x-python",
   "name": "python",
   "nbconvert_exporter": "python",
   "pygments_lexer": "ipython3",
   "version": "3.6.9"
  }
 },
 "nbformat": 4,
 "nbformat_minor": 2
}
